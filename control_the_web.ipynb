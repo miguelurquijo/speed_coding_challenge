{
 "cells": [
  {
   "cell_type": "markdown",
   "source": [
    "# Prepare Enviroment\n",
    "Script use to copy paste the responses of the challenge automaticañly and faster"
   ],
   "metadata": {}
  },
  {
   "cell_type": "code",
   "execution_count": null,
   "source": [
    "pip install selenium"
   ],
   "outputs": [],
   "metadata": {}
  },
  {
   "cell_type": "code",
   "execution_count": null,
   "source": [
    "pip install webdriver-manager"
   ],
   "outputs": [],
   "metadata": {}
  },
  {
   "cell_type": "code",
   "execution_count": null,
   "source": [
    "import os\n",
    "import selenium\n",
    "from selenium import webdriver\n",
    "from selenium import webdriver\n",
    "from webdriver_manager.chrome import ChromeDriverManager\n",
    "import pandas as pd\n",
    "import time "
   ],
   "outputs": [],
   "metadata": {}
  },
  {
   "cell_type": "markdown",
   "source": [
    "# All Answers"
   ],
   "metadata": {}
  },
  {
   "cell_type": "code",
   "execution_count": null,
   "source": [
    "answers_df = pd.read_csv(\"./answersV18.csv\")\n",
    "answers_df"
   ],
   "outputs": [],
   "metadata": {}
  },
  {
   "cell_type": "markdown",
   "source": [
    "# Control de Web"
   ],
   "metadata": {}
  },
  {
   "cell_type": "code",
   "execution_count": null,
   "source": [
    "from selenium.webdriver.common.action_chains import ActionChains\n",
    "driver = webdriver.Chrome(ChromeDriverManager().install())\n",
    "driver.get('https://speedcoding.toptal.com/leaderboard?ch=toptal-js-2021&country=CO')"
   ],
   "outputs": [],
   "metadata": {}
  },
  {
   "cell_type": "code",
   "execution_count": null,
   "source": [
    "from selenium.webdriver.common.keys import Keys\n",
    "\n",
    "for li in range(0,40): #iterate throught all questions\n",
    "\n",
    "    # Find the question in the website\n",
    "    complete_question = \"\"\n",
    "    question = driver.find_elements_by_xpath('//*[@id=\"page_react_container\"]/div/p/div')\n",
    "    for sentences in question:\n",
    "        complete_question += sentences.text\n",
    "\n",
    "    # look for answers in the answers DF\n",
    "    answer =  answers_df.loc[answers_df['Title'] == complete_question].Return.values[0]\n",
    "\n",
    "    # Locate response area\n",
    "    input_area = driver.find_elements_by_class_name('ace_text-input') \n",
    "    for i in input_area:\n",
    "        i.send_keys(Keys.COMMAND, 'a')\n",
    "        i.send_keys(Keys.DELETE)\n",
    "        i.send_keys(answer)\n",
    "        i.send_keys(Keys.COMMAND+Keys.SHIFT+Keys.ARROW_DOWN)\n",
    "        i.send_keys(Keys.DELETE)\n",
    "\n",
    "    #Next question\n",
    "    siguiente = driver.find_elements_by_xpath('//*[@id=\"page_react_container\"]/div/div[5]/div[2]/div/button')\n",
    "    siguiente[0].click()\n",
    "    time.sleep(0.3)\n",
    "    siguiente = driver.find_elements_by_xpath('//*[@id=\"page_react_container\"]/div/div[5]/div[2]/div/button')\n",
    "    siguiente[0].click()    "
   ],
   "outputs": [],
   "metadata": {}
  }
 ],
 "metadata": {
  "orig_nbformat": 4,
  "language_info": {
   "name": "python",
   "version": "3.9.6",
   "mimetype": "text/x-python",
   "codemirror_mode": {
    "name": "ipython",
    "version": 3
   },
   "pygments_lexer": "ipython3",
   "nbconvert_exporter": "python",
   "file_extension": ".py"
  },
  "kernelspec": {
   "name": "python3",
   "display_name": "Python 3.9.6 64-bit"
  },
  "interpreter": {
   "hash": "aee8b7b246df8f9039afb4144a1f6fd8d2ca17a180786b69acc140d282b71a49"
  }
 },
 "nbformat": 4,
 "nbformat_minor": 2
}